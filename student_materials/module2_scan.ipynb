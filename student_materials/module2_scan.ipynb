{
 "cells": [
  {
   "cell_type": "markdown",
   "metadata": {},
   "source": [
    "# PFAS Radicals: A Quantum Chemistry Perspective  \n",
    "---\n",
    "In this lab exercise, you will:  \n",
    "  \n",
    ">  \n",
    ">**Module 1**  \n",
    ">  \n",
    ">1. Model the equilibrium geometry and IR frequencies of the CH3 radical and compare to the CF3 radical  \n",
    ">2. Develop a Python function to parse data from ORCA output files  \n",
    ">\n",
    ">**Module 2**  \n",
    ">  \n",
    ">3. Scan the X-C-X bond angle from 120 degrees (trigonal planar) to 109.5 degrees (tetrahedral) and compare results between the CH3 radical and the CF3 radical  \n",
    ">4. Develop a Python function to write and edit ORCA input files  \n",
    ">\n",
    ">**Module 3**  \n",
    ">  \n",
    ">5. Use Python to analyze results from your ORCA calculations  \n",
    ">  \n",
    "  \n",
    "This module will cover items **3** and **4**.\n",
    "\n",
    "## Module 2: Coordinate Scans  \n",
    "---  \n",
    "By now, you should have seen that the CH3 radical and the CF3 radical do not have the same symmetry. To explore this further, you will perform a relaxed coordinate scan along the X-C-X bond angle.  \n",
    "  \n",
    "## Coordinate Scans - The Basics  \n",
    "Scanning bond lengths, bond angles or dihedrals is a common technique used in computational chemistry. This technique is often used to identify transition states or barriers to rotation, and some form of automated coordinate scan is implemented in most quantum mechanics modeling softwares. Scans can be performed as a **relaxed** coordinate scan, or a **rigid** coordinate scan. **Rigid** coordinate scans iteratively change only the bond length, angle or dihedral requested and maintain all other dimensions fixed during the course of the scan. In contrast, **relaxed** coordinate scans iteratively update the scanning dimension while allowing all other dimensions to 'relax\" to the lowest energy structure under the given constraint. We will use relaxed scans to allow the C-X bond length to change to minimize the energy of the resulting structures.  \n",
    "\n",
    "For your system, you will be using an angle constraint to force the X-C-X bond angle to your set input. Rather than using ORCA's built-in coordinate scanning tool, we will generate a separate input file for each angle in the sweep. This will force you to flex your matrix algebra and python skills, and eliminate the need for a new output file parsing function (ORCA coordinate scan output files are a different format). For most normal uses, ORCA's built-in coordinate scan works just fine, and it will result in faster computations because it will autiomatically use guess parameters fromt eh previous step's wavefunction.\n",
    "  \n",
    "To add a geometric constraint to your input file, you will need to modify your input file by adding the following code:  \n",
    "  \n",
    "```  \n",
    "%geom Constraints  \n",
    "    { A * 0 * C }   \n",
    "end  \n",
    "```  \n",
    "  \n",
    "This constraint sets the angle (A) between atom 0 (this should be your carbon atom) and all other atoms to be constant (C). Running an **opt freq** calculation with this constraint will allow the C-X bond lengths to change to minimize the energy of the system, but will not allow the X-C-X bond angle to change. This means that the bond angle of the starting geometry will be the bond angle of the optimized geometry.  \n",
    "To perform a bond angle scan, you will need to write a python code that can generate starting geometries with any bond angle you select.  \n",
    "\n",
    "## Creating starting geometries  \n",
    "You will write a python function that takes an input X-C-X bond angle and write the coordinates for each atom.  \n",
    "You know:  \n",
    "* Your system contains 4 atoms  \n",
    "* You know the equilibrium bond lengths  \n",
    "* C-X bond will be 120 degrees apart when projected onto the plane formed by the three X atoms, regardless of the X-C-X bond angle  \n",
    "  \n",
    "Similar to the last unit, you will need to complete the missing custom functions `calculate_z_displacement()` and `scale_bond_lengths()` in the following code:  \n",
    "\\*note the helper function `check_bond_angles()` has been written for you\n",
    "\n",
    "```python\n",
    "def generate_geometry(bond_angle_deg : float, bond_length : float) -> list:\n",
    "\n",
    "    # generate geometry using simple scaled diagram\n",
    "    z_displacement = calculate_z_displacement(bond_angle_deg)\n",
    "    assert z_displacement >= 0, \"The z displacement is either nan or less than zero. Check that you are not taking the square root of a negative number.\"\n",
    "\n",
    "    # place heteroatoms 120 degrees apart in the xy plane\n",
    "    heteroatom_xyz_positions = [np.array([1, 0, 0]), np.array([-np.cos(np.deg2rad(60)), np.sin(np.deg2rad(60)), 0]), \\\n",
    "                                np.array([-np.cos(np.deg2rad(60)), -np.sin(np.deg2rad(60)), 0])]\n",
    "    # place the carbon atom at the calculated z displacement\n",
    "    carbon_xyz_position = np.array([0, 0, z_displacement])\n",
    "\n",
    "    # adjust bond lengths to the equilibrium lengths\n",
    "    heteroatom_xyz_positions = scale_bond_lengths(bond_length, carbon_xyz_position, heteroatom_xyz_positions)\n",
    "    assert False not in check_bond_angles(bond_angle_deg, heteroatom_xyz_positions), \"There actual angle is not equal to the input angle.\\n\\t\\t \\\n",
    "    Check the z displacement calculation and ensure you are not changing the angles when scaling bond lengths.\"\n",
    "\n",
    "    return heteroatom_xyz_positions\n",
    "```\n",
    "  \n",
    "You may find the figure below provides a useful starting point:  "
   ]
  },
  {
   "cell_type": "markdown",
   "metadata": {},
   "source": [
    "<img src=\"../images/scan_geometry.png\" alt=\"geometry\" style=\"width: 50%;\"/>\n"
   ]
  },
  {
   "cell_type": "markdown",
   "metadata": {},
   "source": [
    "##### Write your functions below  \n",
    "Fill in the code with the needed elements. You should perform some hand calculations to test that it is working properly. Make sure to run the cells before proceeding."
   ]
  },
  {
   "cell_type": "code",
   "execution_count": null,
   "metadata": {},
   "outputs": [],
   "source": [
    "import numpy as np\n",
    "\n",
    "#### START YOUR CODE HERE ####\n",
    "def calculate_z_displacement(bond_angle_deg : float) -> float:\n",
    "    bond_angle_rad = np.deg2rad(bond_angle_deg)\n",
    "    z_displacement =  # write this line\n",
    "    return z_displacement\n",
    "#### END YOUR CODE HERE ###\n",
    "\n",
    "#### START YOUR CODE HERE ####\n",
    "def scale_bond_lengths(bond_length : float, carbon_xyz_position, heteroatom_xyz_position_list : list) -> list:\n",
    "    new_bond_vectors = []\n",
    "    for heteroatom_position in heteroatom_xyz_position_list:\n",
    "            bond_vector = # write this line\n",
    "            bond_unit_vector =  # write this line\n",
    "            new_bond_vectors.append(bond_unit_vector * bond_length)\n",
    "    return new_bond_vectors\n",
    "#### END YOUR CODE HERE ####"
   ]
  },
  {
   "cell_type": "markdown",
   "metadata": {},
   "source": [
    "Run, but do not edit this code:"
   ]
  },
  {
   "cell_type": "code",
   "execution_count": 1,
   "metadata": {},
   "outputs": [],
   "source": [
    "from math import isclose\n",
    "\n",
    "def generate_geometry(bond_angle_deg : float, bond_length : float) -> list:\n",
    "\n",
    "    # generate geometry using simple scaled diagram\n",
    "    z_displacement = calculate_z_displacement(bond_angle_deg)\n",
    "    assert z_displacement >= 0, \"The z displacement is either nan or less than zero. Check that you are not taking the square root of a negative number.\"\n",
    "\n",
    "    # place heteroatoms 120 degrees apart in the xy plane\n",
    "    heteroatom_xyz_positions = [np.array([1, 0, 0]), np.array([-np.cos(np.deg2rad(60)), np.sin(np.deg2rad(60)), 0]), \\\n",
    "                                np.array([-np.cos(np.deg2rad(60)), -np.sin(np.deg2rad(60)), 0])]\n",
    "    # place the carbon atom at the calculated z displacement\n",
    "    carbon_xyz_position = np.array([0, 0, z_displacement])\n",
    "\n",
    "    # adjust bond lengths to the equilibrium lengths\n",
    "    heteroatom_xyz_positions = scale_bond_lengths(bond_length, carbon_xyz_position, heteroatom_xyz_positions)\n",
    "    assert False not in check_bond_angles(bond_angle_deg, heteroatom_xyz_positions), \"There actual angle is not equal to the input angle.\\n\\t\\t \\\n",
    "    Check the z displacement calculation and ensure you are not changing the angles when scaling bond lengths.\"\n",
    "\n",
    "    return heteroatom_xyz_positions\n",
    "\n",
    "# helper function to check if the input bond angle is the same as our calculated bond angle\n",
    "def check_bond_angles(bond_angle_deg : float, bond_vectors : float) -> list:\n",
    "    n = len(bond_vectors)\n",
    "    bond_vectors = bond_vectors + bond_vectors\n",
    "    results = []\n",
    "    for bond_index in range(n):\n",
    "        dot_product = np.dot(bond_vectors[bond_index], bond_vectors[bond_index + 1])\n",
    "        norms = np.linalg.norm(bond_vectors[bond_index]) * np.linalg.norm(bond_vectors[bond_index + 1])\n",
    "        actual_bond_angle = np.rad2deg(np.arccos(dot_product / norms))\n",
    "        results.append(isclose(bond_angle_deg, actual_bond_angle, abs_tol=4))\n",
    "    return results"
   ]
  },
  {
   "cell_type": "markdown",
   "metadata": {},
   "source": [
    "## Writing input files  \n",
    "Now that we can calculate the xyz coordinate of our atoms for any bond angle we want, we need to write input files for each bond angle.  \n",
    "  \n",
    "We can start by making the text for the input file using the following code (do not edit this code):  "
   ]
  },
  {
   "cell_type": "code",
   "execution_count": null,
   "metadata": {},
   "outputs": [],
   "source": [
    "def make_input_file_text(heteroatom : str, bond_angle_deg : float, bond_length : float) -> str:\n",
    "\n",
    "    # generate coordinates with your custom function\n",
    "    heteroatom_xyz_positions = generate_geometry(bond_angle_deg, bond_length)\n",
    "\n",
    "    # format coordinates\n",
    "    formatted_lines = []\n",
    "    for heteroatom_coordinates in heteroatom_xyz_positions:\n",
    "        atom_line = heteroatom + \" \" + \" \".join(([ \"{:0.10f}\".format(coordinate) for coordinate in heteroatom_coordinates]))\n",
    "        formatted_lines.append(atom_line)\n",
    "    heteroatom_section = \"\\n\".join(formatted_lines)\n",
    "\n",
    "    angle = \"{:0.1f}\".format(bond_angle_deg)\n",
    "\n",
    "    input_file_text = (f\"\"\"\n",
    "    ! UKS TightSCF wB97x-D3 def2-TZVPD xyzfile opt freq\n",
    "\n",
    "    # C{heteroatom}3 radical {angle} degrees fixed\n",
    "\n",
    "    %geom Constraints\n",
    "            {{ A * 0 * C }}\n",
    "        end\n",
    "    end\n",
    "    * xyz 0 2\n",
    "    C 0.00 0.00 0.00\n",
    "    {heteroatom_section}\n",
    "    *\n",
    "    \"\"\").strip()\n",
    "    \n",
    "    input_file_text = format_text_indentation(input_file_text)\n",
    "\n",
    "    return input_file_text\n",
    "\n",
    "\n",
    "# helper function to make the output files look pretty\n",
    "def format_text_indentation(text : str) -> str:\n",
    "    newlines= []\n",
    "    for line in text.split(\"\\n\"):\n",
    "        if line[:4] == ' '*4 :\n",
    "            newlines.append(line[4:])\n",
    "        else:\n",
    "            newlines.append(line)\n",
    "    return \"\\n\".join(newlines)"
   ]
  },
  {
   "cell_type": "markdown",
   "metadata": {},
   "source": [
    "You may notice that the input file text looks a little different than the examples we showed earlier. For one, there are extra culy braces {} in the geometry constraints section. This is needed so that python does not try to replace the text inside the braces as it does with the `{heteroatom}` and `{angle}`, and it won't show up in the final text. Try generating an input file below:"
   ]
  },
  {
   "cell_type": "code",
   "execution_count": null,
   "metadata": {},
   "outputs": [],
   "source": [
    "make_input_file_text(\"F\", 109.5, 1.31)"
   ]
  },
  {
   "cell_type": "markdown",
   "metadata": {},
   "source": [
    "Now that we have made the input file text, we need to write the output to a file. The function below should enable this capability. Files will be written to the directory where you run this code. Run this cell but do not edit this code."
   ]
  },
  {
   "cell_type": "code",
   "execution_count": null,
   "metadata": {},
   "outputs": [],
   "source": [
    "def write_input_file(heteroatom : str, bond_angle_deg : float, bond_length : float):\n",
    "\n",
    "    # create a meaningful filename\n",
    "    filename = f\"C{heteroatom}3_radical_{bond_angle_deg}_degrees.inp\"\n",
    "    \n",
    "    # make the inputfile text\n",
    "    input_file_text = make_input_file_text(heteroatom, bond_angle_deg, bond_length)\n",
    "\n",
    "    with open(filename, \"w\") as f:\n",
    "        f.write(input_file_text)"
   ]
  },
  {
   "cell_type": "markdown",
   "metadata": {},
   "source": [
    "Test that the function works in the cell below:"
   ]
  },
  {
   "cell_type": "code",
   "execution_count": null,
   "metadata": {},
   "outputs": [],
   "source": [
    "# make an input file for the CH3 radical at a bond angle of 100 degrees here:\n",
    "write_input_file()"
   ]
  },
  {
   "cell_type": "markdown",
   "metadata": {},
   "source": [
    "A new file should have appeared in your current directory. \n",
    "\n",
    "We can now write an input file for any bond angle we want!  \n",
    "There is one final step before we can start submiting calculations - automatically generating the files for your chosen scan.  \n",
    "\n",
    "##### Write your function below  \n",
    "You will write a function that takes in the heteroatom, bond angle and bond length similar to the `write_input_file()` function. Your function will also take in the minimum and maximum angles you want to scan over, and the step.  "
   ]
  },
  {
   "cell_type": "code",
   "execution_count": null,
   "metadata": {},
   "outputs": [],
   "source": [
    "#### START YOUR CODE HERE ####\n",
    "def write_coordinate_scan_input_files(heteroatom, bond_length, low : float, high : float, step : float):\n",
    "    # look up the documentation for np.arange() - this will be useful\n",
    "    scan_angles = # write this line\n",
    "    for angle in scan_angles:\n",
    "        write_input_file(heteroatom, angle, bond_length)\n",
    "#### END YOUR CODE HERE ####"
   ]
  },
  {
   "cell_type": "markdown",
   "metadata": {},
   "source": [
    "### Putting it all together  \n",
    "---\n",
    "Assuming you have properly implemented the custom functions and ran the cells above, you should be able to generate the ORCA input files for all of the jobs in your scan. \n",
    "  \n",
    "**Generate the input files using the cell below and submit your calculations to ORCA.** When your calculations are complete, copy the output files to a common folder and continue with this notebook. Your instructor may have guidance on which angles to scan and an appropriate step distance."
   ]
  },
  {
   "cell_type": "code",
   "execution_count": null,
   "metadata": {},
   "outputs": [],
   "source": [
    "# generate your orca input files here\n",
    "write_coordinate_scan_input_files(\"F\", )\n",
    "write_coordinate_scan_input_files(\"H\", )"
   ]
  },
  {
   "cell_type": "markdown",
   "metadata": {},
   "source": [
    "With your output files in a common folder, you should be able to parse the data from each file using the `parse_outfile()` code you wrote in the previous module. Rather than applying this fucntion manually to each file, we can write a helper function to loop through all of the outfiles in our folder and write the data to a single file. Run the cells below to continue but do not edit the code."
   ]
  },
  {
   "cell_type": "code",
   "execution_count": 10,
   "metadata": {},
   "outputs": [],
   "source": [
    "import os\n",
    "import sys; sys.path.insert(0, '..') # required for relative path import into a notebook\n",
    "from utilities import module1_functions as m1 # import the function you wrote from the previous module\n",
    "import pandas as pd\n",
    "\n",
    "def parse_outfiles_from_folder(folderpath : str) -> list:\n",
    "    folder_data = []\n",
    "    files = os.listdir(folderpath)\n",
    "    outfiles = list(filter(lambda ext: \".out\" in ext, files))\n",
    "    for file in outfiles:\n",
    "        print(f\"NOW PARSING {file}\")\n",
    "        filepath = os.path.join(folderpath, file)\n",
    "        data_names, data = m1.parse_outfile(filepath) # use the parsing fucntion from the previous module\n",
    "        file_data = [file] + data\n",
    "        folder_data.append(file_data)\n",
    "    print(\"PARSING COMPLETE\")\n",
    "    folder_data = [['filename', *data_names]] + folder_data\n",
    "    return folder_data\n",
    "\n",
    "def write_data_to_csv(folder_data : list):\n",
    "    dataframe = pd.DataFrame(folder_data[1:], columns=folder_data[0])\n",
    "    dataframe.sort_values(by=['heteroatom', 'bond_angle[deg]'], inplace=True)\n",
    "    dataframe.to_csv(\"./summary_data.csv\", index=False)"
   ]
  },
  {
   "cell_type": "markdown",
   "metadata": {},
   "source": [
    "To use the helper functions above, you can run the code below. If you placed your logfiles in the same directory as this notebook, you can replace \"outfiles/\" with the name of the folder where you put the output files. Otherwise, enter the path to the folder."
   ]
  },
  {
   "cell_type": "code",
   "execution_count": null,
   "metadata": {},
   "outputs": [],
   "source": [
    "data = parse_outfiles_from_folder(\"./outfiles/\")\n",
    "write_data_to_csv(data)"
   ]
  },
  {
   "cell_type": "markdown",
   "metadata": {},
   "source": [
    "This should create a new file in your current directory called \"summary_data.csv\" that contains all of the data parsed from every file in the scan."
   ]
  },
  {
   "cell_type": "markdown",
   "metadata": {},
   "source": [
    "#### Congratulations!  \n",
    "You have completed module 2. Please proceed to [module 3](./module3_analysis.ipynb)."
   ]
  }
 ],
 "metadata": {
  "kernelspec": {
   "display_name": "psi4",
   "language": "python",
   "name": "python3"
  },
  "language_info": {
   "codemirror_mode": {
    "name": "ipython",
    "version": 3
   },
   "file_extension": ".py",
   "mimetype": "text/x-python",
   "name": "python",
   "nbconvert_exporter": "python",
   "pygments_lexer": "ipython3",
   "version": "3.8.17"
  }
 },
 "nbformat": 4,
 "nbformat_minor": 2
}
